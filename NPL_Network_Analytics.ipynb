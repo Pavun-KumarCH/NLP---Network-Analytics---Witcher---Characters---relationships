{
  "cells": [
    {
      "cell_type": "markdown",
      "metadata": {
        "id": "view-in-github",
        "colab_type": "text"
      },
      "source": [
        "<a href=\"https://colab.research.google.com/github/Pavun-KumarCH/NLP---Network-Analytics---Witcher---Characters---relationships/blob/main/NPL_Network_Analytics.ipynb\" target=\"_parent\"><img src=\"https://colab.research.google.com/assets/colab-badge.svg\" alt=\"Open In Colab\"/></a>"
      ]
    },
    {
      "cell_type": "markdown",
      "source": [
        "# Import Libraries\n"
      ],
      "metadata": {
        "id": "2ehDiVnX26Mi"
      },
      "id": "2ehDiVnX26Mi"
    },
    {
      "cell_type": "code",
      "execution_count": null,
      "id": "4a266a54-fab1-4d36-b4cb-c70e7cba3293",
      "metadata": {
        "id": "4a266a54-fab1-4d36-b4cb-c70e7cba3293"
      },
      "outputs": [],
      "source": [
        "import pandas as pd\n",
        "import numpy as np\n",
        "import spacy\n",
        "from spacy import displacy\n",
        "import networkx as nx\n",
        "%matplotlib inline\n",
        "import matplotlib.pyplot as plt\n",
        "import os\n"
      ]
    },
    {
      "cell_type": "code",
      "execution_count": null,
      "id": "78189c5a-2c89-4a16-85bc-2d86acd657b1",
      "metadata": {
        "scrolled": true,
        "id": "78189c5a-2c89-4a16-85bc-2d86acd657b1"
      },
      "outputs": [],
      "source": [
        "#!python3 -m spacy download en_core_web_sm"
      ]
    },
    {
      "cell_type": "code",
      "execution_count": null,
      "id": "7ed0d7ef-f86a-4a08-8c3f-3d1bfd03fed2",
      "metadata": {
        "id": "7ed0d7ef-f86a-4a08-8c3f-3d1bfd03fed2"
      },
      "outputs": [],
      "source": [
        "# Load Spacy English Language Model\n",
        "# Name Entity Recognition\n",
        "model_dir = \"en_core_web_sm\"\n",
        "NER = spacy.load(model_dir)"
      ]
    },
    {
      "cell_type": "code",
      "execution_count": null,
      "id": "d8b2ba74-487a-42ac-a55c-07d1e7c64c50",
      "metadata": {
        "id": "d8b2ba74-487a-42ac-a55c-07d1e7c64c50"
      },
      "outputs": [],
      "source": [
        "!python -m spacy validate\n",
        "\n"
      ]
    },
    {
      "cell_type": "code",
      "execution_count": null,
      "id": "4662b20b-c927-4e20-a4d1-ecaacdf5f61e",
      "metadata": {
        "id": "4662b20b-c927-4e20-a4d1-ecaacdf5f61e"
      },
      "outputs": [],
      "source": [
        "spacy.info()"
      ]
    },
    {
      "cell_type": "markdown",
      "id": "1ac975c8-de1b-4bf6-b6e5-f1a7a575d5e9",
      "metadata": {
        "id": "1ac975c8-de1b-4bf6-b6e5-f1a7a575d5e9"
      },
      "source": [
        "## Load the Books"
      ]
    },
    {
      "cell_type": "code",
      "source": [
        "import os\n",
        "os.getcwd()\n",
        "\n",
        "os.chdir('/Users/pavankumar/Projects/Witcher_project/')"
      ],
      "metadata": {
        "id": "u7jYHhL_ZvCd"
      },
      "id": "u7jYHhL_ZvCd",
      "execution_count": null,
      "outputs": []
    },
    {
      "cell_type": "code",
      "execution_count": null,
      "id": "595b80ea-f921-4509-9fd7-c54de4282b08",
      "metadata": {
        "id": "595b80ea-f921-4509-9fd7-c54de4282b08"
      },
      "outputs": [],
      "source": [
        "# get all book files in data dictionary\n",
        "all_books = [b for b in os.scandir('data') if '.txt' in b.name]"
      ]
    },
    {
      "cell_type": "code",
      "execution_count": null,
      "id": "75064fc1-8944-40c3-852b-c7978da17740",
      "metadata": {
        "id": "75064fc1-8944-40c3-852b-c7978da17740"
      },
      "outputs": [],
      "source": [
        "all_books"
      ]
    },
    {
      "cell_type": "code",
      "execution_count": null,
      "id": "e47b6955-568c-43eb-8895-ede6ac685f1a",
      "metadata": {
        "id": "e47b6955-568c-43eb-8895-ede6ac685f1a"
      },
      "outputs": [],
      "source": [
        "book = all_books[1]\n",
        "book_text = open(book).read()\n",
        "book_doc = NER(book_text)"
      ]
    },
    {
      "cell_type": "markdown",
      "source": [
        "## Visualize identify Entities"
      ],
      "metadata": {
        "id": "mn-r3KqWBeXe"
      },
      "id": "mn-r3KqWBeXe"
    },
    {
      "cell_type": "code",
      "source": [
        "displacy.render(book_doc[0 : 2000], style = 'ent', jupyter = True)"
      ],
      "metadata": {
        "id": "j8GowCMdBTGW"
      },
      "id": "j8GowCMdBTGW",
      "execution_count": null,
      "outputs": []
    },
    {
      "cell_type": "code",
      "source": [
        "# Load the characters data\n",
        "characters  =  pd.read_csv('Characters data.csv')\n",
        "characters"
      ],
      "metadata": {
        "id": "anofcO1VDTIS"
      },
      "id": "anofcO1VDTIS",
      "execution_count": null,
      "outputs": []
    },
    {
      "cell_type": "markdown",
      "source": [
        "## Using Regural Eexpression removing the unwanted (-text-) in brackets\n"
      ],
      "metadata": {
        "id": "YhkhhjFsEGB0"
      },
      "id": "YhkhhjFsEGB0"
    },
    {
      "cell_type": "code",
      "source": [
        "import re\n",
        "characters['Character'] = characters['Character'].apply(lambda x : re.sub(\"[\\(].*?[\\)]\",\"\",x))\n",
        "characters['First Name'] = characters['Character'].apply(lambda x : x.split(\" \", 1)[0])"
      ],
      "metadata": {
        "id": "fbqTAa3DEFeZ"
      },
      "id": "fbqTAa3DEFeZ",
      "execution_count": null,
      "outputs": []
    },
    {
      "cell_type": "code",
      "source": [
        "pd.set_option('display.max_rows', None)\n",
        "characters"
      ],
      "metadata": {
        "id": "xcZiGRjtFcO0"
      },
      "id": "xcZiGRjtFcO0",
      "execution_count": null,
      "outputs": []
    },
    {
      "cell_type": "markdown",
      "source": [
        "### Get Name Entity list per sentence"
      ],
      "metadata": {
        "id": "KcHxcLxPF6RY"
      },
      "id": "KcHxcLxPF6RY"
    },
    {
      "cell_type": "code",
      "source": [
        "sentence_entity = []\n",
        "\n",
        "# loop through sentences, store name entity list for each sentence\n",
        "for sent in book_doc.sents:\n",
        "  entity_list = [ent.text for ent in sent.ents]\n",
        "  sentence_entity.append({'Sentence' : sent, 'Entities' : entity_list})\n",
        "\n",
        "sentence_entity_df = pd.DataFrame(sentence_entity)"
      ],
      "metadata": {
        "id": "2RD9A_e6F6G8"
      },
      "id": "2RD9A_e6F6G8",
      "execution_count": null,
      "outputs": []
    },
    {
      "cell_type": "code",
      "source": [
        "sentence_entity_df"
      ],
      "metadata": {
        "id": "M1_CoPm5G66i"
      },
      "id": "M1_CoPm5G66i",
      "execution_count": null,
      "outputs": []
    },
    {
      "cell_type": "code",
      "source": [
        "# Function to filter out non-character entites\n",
        "def filter_entity(ent_list, character_df):\n",
        "  return[ent for ent in ent_list\n",
        "         if ent in list(character_df['Character'])\n",
        "         or ent in list(character_df['First Name'])]"
      ],
      "metadata": {
        "id": "HjUsoYn1He8t"
      },
      "id": "HjUsoYn1He8t",
      "execution_count": null,
      "outputs": []
    },
    {
      "cell_type": "markdown",
      "source": [
        "### Example\n",
        " here it will only look for the characters which are present in the character data and the rest is been removed"
      ],
      "metadata": {
        "id": "bxx-7ittIxrQ"
      },
      "id": "bxx-7ittIxrQ"
    },
    {
      "cell_type": "code",
      "source": [
        "# example\n",
        "filter_entity(['Adela', 'the', 4], characters)"
      ],
      "metadata": {
        "id": "19tEIi42IUqq"
      },
      "id": "19tEIi42IUqq",
      "execution_count": null,
      "outputs": []
    },
    {
      "cell_type": "code",
      "source": [
        "sentence_entity_df['Character Entites'] = sentence_entity_df['Entities'].apply(lambda x: filter_entity(x, characters))\n",
        "sentence_entity_df.head(100)"
      ],
      "metadata": {
        "id": "sDK5cukVI5tR"
      },
      "id": "sDK5cukVI5tR",
      "execution_count": null,
      "outputs": []
    },
    {
      "cell_type": "markdown",
      "source": [
        "# filter out the sentences that don't have any character entitiy"
      ],
      "metadata": {
        "id": "GV433A1YJ5bn"
      },
      "id": "GV433A1YJ5bn"
    },
    {
      "cell_type": "code",
      "source": [
        "sentence_entity_filtered_df = sentence_entity_df[sentence_entity_df['Character Entites'].map(len)> 0]\n",
        "sentence_entity_filtered_df"
      ],
      "metadata": {
        "id": "9lbOXxswJhoN"
      },
      "id": "9lbOXxswJhoN",
      "execution_count": null,
      "outputs": []
    },
    {
      "cell_type": "code",
      "source": [
        "# Take only first names of characters\n",
        "sentence_entity_filtered_df['Character Entites'] = sentence_entity_filtered_df['Character Entites'].apply(lambda x : [item.split()[0] for item in x])"
      ],
      "metadata": {
        "id": "XBK26Px8sXCy"
      },
      "id": "XBK26Px8sXCy",
      "execution_count": null,
      "outputs": []
    },
    {
      "cell_type": "code",
      "source": [
        "pd.reset_option('^display.', silent = True)\n",
        "sentence_entity_filtered_df"
      ],
      "metadata": {
        "id": "f7g0gveYswwn"
      },
      "id": "f7g0gveYswwn",
      "execution_count": null,
      "outputs": []
    },
    {
      "cell_type": "markdown",
      "source": [
        "# Create Relationship"
      ],
      "metadata": {
        "id": "KqusqzvRtR3c"
      },
      "id": "KqusqzvRtR3c"
    },
    {
      "cell_type": "code",
      "source": [
        "window_size = 5\n",
        "relationships = []\n",
        "\n",
        "for i in range(sentence_entity_filtered_df.index[-1]):\n",
        "  end_i = min(i + 5, sentence_entity_filtered_df.index[-1])\n",
        "  char_list = sum((sentence_entity_filtered_df.loc[i: end_i]['Character Entites']),[])\n",
        "\n",
        "  # Remove dupilcate characters next to each other\n",
        "  char_unique = [char_list[i] for i in range(len(char_list))\n",
        "                if (i == 0) or char_list[i] != char_list[i-1]]\n",
        "\n",
        "  if len(char_unique) > 1:\n",
        "    for idx, a in enumerate(char_unique[:-1]):\n",
        "      b = char_unique[idx + 1]\n",
        "      relationships.append({'source' : a, 'target' : b})\n",
        "\n"
      ],
      "metadata": {
        "id": "lKxOTfzJtRUu"
      },
      "id": "lKxOTfzJtRUu",
      "execution_count": null,
      "outputs": []
    },
    {
      "cell_type": "code",
      "source": [
        "relationships_df = pd.DataFrame(relationships)\n",
        "pd.set_option('^display.max_rows',None)\n",
        "relationships_df"
      ],
      "metadata": {
        "id": "APvVNLHUvDhC"
      },
      "id": "APvVNLHUvDhC",
      "execution_count": null,
      "outputs": []
    },
    {
      "cell_type": "markdown",
      "source": [
        "# Lets sort the source and target entities properly"
      ],
      "metadata": {
        "id": "GYJ0ozEo8m5G"
      },
      "id": "GYJ0ozEo8m5G"
    },
    {
      "cell_type": "code",
      "source": [
        "pd.set_option('^display.max_rows',None)\n",
        "np.sort(relationships_df.values)"
      ],
      "metadata": {
        "id": "586dES2NRk7R"
      },
      "id": "586dES2NRk7R",
      "execution_count": null,
      "outputs": []
    },
    {
      "cell_type": "code",
      "source": [
        "# sort the case with a -> b and b->a\n",
        "relationships_df = pd.DataFrame(np.sort(relationships_df.values, axis =1), columns = relationships_df.columns)\n",
        "relationships_df"
      ],
      "metadata": {
        "id": "nxHuVmFFRIey"
      },
      "id": "nxHuVmFFRIey",
      "execution_count": null,
      "outputs": []
    },
    {
      "cell_type": "code",
      "source": [
        "# add a value weigths as 1 to each row\n",
        "relationships_df['value'] = 1\n",
        "relationships_df = relationships_df.groupby(['source', 'target'], sort = False, as_index = False).sum()\n",
        "relationships_df"
      ],
      "metadata": {
        "id": "0nZ5RahsSBXV"
      },
      "id": "0nZ5RahsSBXV",
      "execution_count": null,
      "outputs": []
    },
    {
      "cell_type": "markdown",
      "source": [
        "# Graph analysis and Visualization\n"
      ],
      "metadata": {
        "id": "V-xuTjfETT6Y"
      },
      "id": "V-xuTjfETT6Y"
    },
    {
      "cell_type": "code",
      "source": [
        "# create a graph from pandas dataframe\n",
        "G = nx.from_pandas_edgelist(relationships_df,\n",
        "                            source = 'source',\n",
        "                            target = 'target',\n",
        "                            edge_attr = 'value',\n",
        "                            create_using = nx.Graph())"
      ],
      "metadata": {
        "id": "wNd2ewbLTTqR"
      },
      "id": "wNd2ewbLTTqR",
      "execution_count": null,
      "outputs": []
    },
    {
      "cell_type": "markdown",
      "source": [
        "#### Graph. Visualization - Networkx"
      ],
      "metadata": {
        "id": "hEcvHZ0zT6dh"
      },
      "id": "hEcvHZ0zT6dh"
    },
    {
      "cell_type": "code",
      "source": [
        "plt.figure(figsize = (15, 15))\n",
        "pos = nx.kamada_kawai_layout(G)\n",
        "nx.draw(G, with_labels = True, node_color = 'skyblue', edge_cmap = plt.cm.Blues, pos = pos)"
      ],
      "metadata": {
        "id": "Ex980vOUTI4X"
      },
      "id": "Ex980vOUTI4X",
      "execution_count": null,
      "outputs": []
    },
    {
      "cell_type": "code",
      "source": [
        "from pyvis.network import Network\n",
        "from IPython.display import HTML\n",
        "\n",
        "net = Network(notebook=True, width='1920px', height='1080px', bgcolor='#222222', font_color='orange', cdn_resources='remote')\n",
        "node_degree = dict(G.degree)\n",
        "# setting up node size attribute\n",
        "nx.set_node_attributes(G, node_degree, 'size')\n",
        "net.from_nx(G)\n",
        "net.show(\"witcher.html\")\n",
        "\n",
        "# Display the HTML content in the notebook\n",
        "HTML(net.html)\n"
      ],
      "metadata": {
        "id": "B_6XrgxhXo6I"
      },
      "id": "B_6XrgxhXo6I",
      "execution_count": null,
      "outputs": []
    },
    {
      "cell_type": "markdown",
      "source": [
        "## Most Important characters in witcher"
      ],
      "metadata": {
        "id": "Vdkv9T25agI_"
      },
      "id": "Vdkv9T25agI_"
    },
    {
      "cell_type": "code",
      "source": [
        "# Degree centrality\n",
        "degree_dict = nx.degree_centrality(G)\n",
        "degree_dict"
      ],
      "metadata": {
        "id": "jaFe4IneZon_"
      },
      "id": "jaFe4IneZon_",
      "execution_count": null,
      "outputs": []
    },
    {
      "cell_type": "code",
      "source": [
        "degree_df = pd.DataFrame.from_dict(degree_dict, orient = 'index', columns = ['centrality'])\n",
        "# plot for top 10\n",
        "degree_df.sort_values('centrality', ascending = False)[0:9].plot(kind = 'bar')"
      ],
      "metadata": {
        "id": "x5GkKD4ta6Cs"
      },
      "id": "x5GkKD4ta6Cs",
      "execution_count": null,
      "outputs": []
    },
    {
      "cell_type": "code",
      "source": [
        "# Betweeness Centrality\n",
        "betweeness_dict = nx.betweenness_centrality(G)\n",
        "betweeness_df = pd.DataFrame.from_dict(betweeness_dict, orient = 'index', columns=['centrality'])\n",
        "# plot for top 10\n",
        "betweeness_df.sort_values('centrality', ascending = False)[0:9].plot(kind = 'bar')"
      ],
      "metadata": {
        "id": "TPel4GDTb3KH"
      },
      "id": "TPel4GDTb3KH",
      "execution_count": null,
      "outputs": []
    },
    {
      "cell_type": "code",
      "source": [
        "# Closeness Centrality\n",
        "closeness_dict = nx.closeness_centrality(G)\n",
        "closeness_df = pd.DataFrame.from_dict(closeness_dict, orient = 'index', columns = ['centrality'])\n",
        "# plot for top 10\n",
        "closeness_df.sort_values('centrality', ascending = False)[0:9].plot(kind = 'bar')"
      ],
      "metadata": {
        "id": "8q8085yib5i5"
      },
      "id": "8q8085yib5i5",
      "execution_count": null,
      "outputs": []
    },
    {
      "cell_type": "code",
      "source": [
        "# Save the centrality measures\n",
        "nx.set_node_attributes(G, degree_dict, 'Degree Centrality')\n",
        "nx.set_node_attributes(G, betweeness_dict, 'Betweeness Centrality')\n",
        "nx.set_node_attributes(G, closeness_dict, 'Closeness Centrality')"
      ],
      "metadata": {
        "id": "uC-g3Tt3dY3R"
      },
      "id": "uC-g3Tt3dY3R",
      "execution_count": null,
      "outputs": []
    },
    {
      "cell_type": "markdown",
      "source": [
        "# Community Detection"
      ],
      "metadata": {
        "id": "2qdbM0-EL8Px"
      },
      "id": "2qdbM0-EL8Px"
    },
    {
      "cell_type": "code",
      "source": [
        "import community as community_louvain\n",
        "communities = community_louvain.best_partition(G)\n",
        "\n",
        "nx.set_node_attributes(G, communities, 'group')\n",
        "com_net = Network(notebook = True, width = '1920px', height = '1080px', bgcolor = '#222222', font_color = 'white', cdn_resources = 'remote')\n",
        "com_net.from_nx(G)\n",
        "com_net.show(\"witcher_communities.html\")\n",
        "\n",
        "# Display the HTML content in the notebook\n",
        "HTML(com_net.html)\n"
      ],
      "metadata": {
        "id": "JrPRd_FkMeZp"
      },
      "id": "JrPRd_FkMeZp",
      "execution_count": null,
      "outputs": []
    }
  ],
  "metadata": {
    "kernelspec": {
      "display_name": "Python 3 (ipykernel)",
      "language": "python",
      "name": "python3"
    },
    "language_info": {
      "codemirror_mode": {
        "name": "ipython",
        "version": 3
      },
      "file_extension": ".py",
      "mimetype": "text/x-python",
      "name": "python",
      "nbconvert_exporter": "python",
      "pygments_lexer": "ipython3",
      "version": "3.11.7"
    },
    "colab": {
      "provenance": [],
      "private_outputs": true,
      "include_colab_link": true
    }
  },
  "nbformat": 4,
  "nbformat_minor": 5
}